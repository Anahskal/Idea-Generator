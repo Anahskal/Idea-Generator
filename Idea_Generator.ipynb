{
  "nbformat": 4,
  "nbformat_minor": 0,
  "metadata": {
    "colab": {
      "provenance": [],
      "authorship_tag": "ABX9TyP3iJiAhllG9GBlAd3PmQV/",
      "include_colab_link": true
    },
    "kernelspec": {
      "name": "python3",
      "display_name": "Python 3"
    },
    "language_info": {
      "name": "python"
    }
  },
  "cells": [
    {
      "cell_type": "markdown",
      "metadata": {
        "id": "view-in-github",
        "colab_type": "text"
      },
      "source": [
        "<a href=\"https://colab.research.google.com/github/Anahskal/Idea-Generator/blob/main/Idea_Generator.ipynb\" target=\"_parent\"><img src=\"https://colab.research.google.com/assets/colab-badge.svg\" alt=\"Open In Colab\"/></a>"
      ]
    },
    {
      "cell_type": "code",
      "execution_count": 5,
      "metadata": {
        "colab": {
          "base_uri": "https://localhost:8080/",
          "height": 631
        },
        "id": "VY2DufDVmnN4",
        "outputId": "c1b68b42-447b-4936-e96d-6da8d4deb12b"
      },
      "outputs": [
        {
          "output_type": "stream",
          "name": "stderr",
          "text": [
            "Device set to use cpu\n"
          ]
        },
        {
          "output_type": "stream",
          "name": "stdout",
          "text": [
            "Colab notebook detected. To show errors in colab notebook, set debug=True in launch()\n",
            "* Running on public URL: https://228e509bcf74cc4b72.gradio.live\n",
            "\n",
            "This share link expires in 1 week. For free permanent hosting and GPU upgrades, run `gradio deploy` from the terminal in the working directory to deploy to Hugging Face Spaces (https://huggingface.co/spaces)\n"
          ]
        },
        {
          "output_type": "display_data",
          "data": {
            "text/plain": [
              "<IPython.core.display.HTML object>"
            ],
            "text/html": [
              "<div><iframe src=\"https://228e509bcf74cc4b72.gradio.live\" width=\"100%\" height=\"500\" allow=\"autoplay; camera; microphone; clipboard-read; clipboard-write;\" frameborder=\"0\" allowfullscreen></iframe></div>"
            ]
          },
          "metadata": {}
        },
        {
          "output_type": "execute_result",
          "data": {
            "text/plain": []
          },
          "metadata": {},
          "execution_count": 5
        }
      ],
      "source": [
        "#install deps\n",
        "!pip install -q transformers gradio torch accelerate\n",
        "\n",
        "#import and load model\n",
        "from transformers import pipeline\n",
        "import gradio as gr\n",
        "\n",
        "#use better instruction tuned model\n",
        "generator=pipeline(\n",
        "    \"text2text-generation\",\n",
        "    model=\"MBZUAI/LaMini-Flan-T5-783M\",\n",
        "    device_map=\"auto\"\n",
        ")\n",
        "\n",
        "#function\n",
        "def generate_idea(domain):\n",
        "  if not domain or not domain.strip():\n",
        "    return \"Please provide a domain (e.g fintech,agritech)\"\n",
        "  prompt =f\"\"\"\n",
        "Generate a startup pitch for the domain {domain}.\n",
        "Include the following sections:\n",
        "\n",
        "1) Business Idea (2-3 sentences)\n",
        "2) problem statement (explain the challenge clearly)\n",
        "3) solution (explain how the startup solves it)\n",
        "\"\"\"\n",
        "  result = generator(\n",
        "     prompt,\n",
        "     max_new_tokens=400, # Corrected typo here\n",
        "     temperature=0.8,\n",
        "     do_sample=True\n",
        " )\n",
        "  generated_text = result[0][\"generated_text\"]\n",
        "  if not generated_text or not generated_text.strip():\n",
        "      return \"Could not generate a startup idea for this domain. Please try another one.\"\n",
        "  return generated_text\n",
        "\n",
        "#Gradio UI\n",
        "demo =gr.Interface(\n",
        "    fn=generate_idea,\n",
        "    inputs=gr.Textbox(label=\"Domain of Interest\",placeholder=\"e.g agritech\"),\n",
        "    outputs=\"text\",\n",
        "    title=\"Startup Idea + Pitch Generator\",\n",
        "    description=\"Enter a domain (e.g fintech,agritech) and get a startup pitch with Problem and Solution.\"\n",
        ")\n",
        "demo.launch(share=True)"
      ]
    }
  ]
}
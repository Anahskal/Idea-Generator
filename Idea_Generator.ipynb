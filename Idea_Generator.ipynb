{
  "nbformat": 4,
  "nbformat_minor": 0,
  "metadata": {
    "colab": {
      "provenance": [],
      "authorship_tag": "ABX9TyNnpmGPSD3oQ3OkKJYSxx6M",
      "include_colab_link": true
    },
    "kernelspec": {
      "name": "python3",
      "display_name": "Python 3"
    },
    "language_info": {
      "name": "python"
    }
  },
  "cells": [
    {
      "cell_type": "markdown",
      "metadata": {
        "id": "view-in-github",
        "colab_type": "text"
      },
      "source": [
        "<a href=\"https://colab.research.google.com/github/Anahskal/Idea-Generator/blob/main/Idea_Generator.ipynb\" target=\"_parent\"><img src=\"https://colab.research.google.com/assets/colab-badge.svg\" alt=\"Open In Colab\"/></a>"
      ]
    },
    {
      "cell_type": "code",
      "execution_count": 14,
      "metadata": {
        "colab": {
          "base_uri": "https://localhost:8080/",
          "height": 631
        },
        "id": "VY2DufDVmnN4",
        "outputId": "2a9db636-a01c-4ff3-a13f-0a160db3589a"
      },
      "outputs": [
        {
          "output_type": "stream",
          "name": "stderr",
          "text": [
            "Device set to use cpu\n"
          ]
        },
        {
          "output_type": "stream",
          "name": "stdout",
          "text": [
            "Colab notebook detected. To show errors in colab notebook, set debug=True in launch()\n",
            "* Running on public URL: https://aac277452d315fd550.gradio.live\n",
            "\n",
            "This share link expires in 1 week. For free permanent hosting and GPU upgrades, run `gradio deploy` from the terminal in the working directory to deploy to Hugging Face Spaces (https://huggingface.co/spaces)\n"
          ]
        },
        {
          "output_type": "display_data",
          "data": {
            "text/plain": [
              "<IPython.core.display.HTML object>"
            ],
            "text/html": [
              "<div><iframe src=\"https://aac277452d315fd550.gradio.live\" width=\"100%\" height=\"500\" allow=\"autoplay; camera; microphone; clipboard-read; clipboard-write;\" frameborder=\"0\" allowfullscreen></iframe></div>"
            ]
          },
          "metadata": {}
        },
        {
          "output_type": "execute_result",
          "data": {
            "text/plain": []
          },
          "metadata": {},
          "execution_count": 14
        }
      ],
      "source": [
        "# Install deps\n",
        "!pip install -q transformers gradio torch accelerate\n",
        "\n",
        "# Imports + Load model\n",
        "from transformers import pipeline\n",
        "import gradio as gr\n",
        "\n",
        "# Use a better instruction-tuned model\n",
        "generator = pipeline(\n",
        "    \"text2text-generation\",\n",
        "    model=\"MBZUAI/LaMini-Flan-T5-783M\",\n",
        "    device_map=\"auto\"\n",
        ")\n",
        "\n",
        "# Function\n",
        "def generate_idea(domain):\n",
        "    if not domain or not domain.strip():\n",
        "        return \"⚠️ Please provide a domain (e.g., Agritech, Fintech, EdTech).\"\n",
        "\n",
        "    prompt = f\"\"\"\n",
        "Generate a startup pitch for the domain: {domain}.\n",
        "Include the following sections:\n",
        "\n",
        "1) Business Idea (2–3 sentences)\n",
        "2) Problem Statement (explain the challenge clearly)\n",
        "3) Solution (explain how the startup solves it)\n",
        "\"\"\"\n",
        "\n",
        "    result = generator(\n",
        "        prompt,\n",
        "        max_new_tokens=400,\n",
        "        temperature=0.8,\n",
        "        do_sample=True,\n",
        "    )\n",
        "\n",
        "    return result[0][\"generated_text\"]\n",
        "\n",
        "# Gradio UI\n",
        "demo = gr.Interface(\n",
        "    fn=generate_idea,\n",
        "    inputs=gr.Textbox(label=\"Domain of Interest\", placeholder=\"e.g., Agritech\"),\n",
        "    outputs=gr.Textbox(label=\"Startup Pitch\", lines=10, max_lines=30),\n",
        "    title=\"🚀 Startup Idea + Pitch Generator\",\n",
        "    description=\"Enter a domain (Agritech, Fintech, EdTech, etc.) and get a startup pitch with Problem & Solution.\"\n",
        ")\n",
        "\n",
        "demo.launch(share=True)\n"
      ]
    }
  ]
}